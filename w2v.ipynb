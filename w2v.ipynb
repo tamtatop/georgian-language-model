{
 "cells": [
  {
   "cell_type": "code",
   "execution_count": 1,
   "id": "1da7cea0-d29a-4bc3-9ba6-33e682aa4cf3",
   "metadata": {},
   "outputs": [],
   "source": [
    "from tokenizers import BertWordPieceTokenizer\n",
    "from pathlib import Path\n",
    "from gensim.models import Word2Vec"
   ]
  },
  {
   "cell_type": "code",
   "execution_count": 2,
   "id": "dffa3cdb-8bc0-4823-8183-43e78800734e",
   "metadata": {},
   "outputs": [],
   "source": [
    "out_base = Path('./polished/models/v2bert/')"
   ]
  },
  {
   "cell_type": "code",
   "execution_count": 3,
   "id": "fdbdf376-b12b-40e6-8af4-56cca3903ec9",
   "metadata": {},
   "outputs": [],
   "source": [
    "data_file = './no_en_data/'"
   ]
  },
  {
   "cell_type": "code",
   "execution_count": 107,
   "id": "4c858a58-2157-4353-b726-4e570f90ca24",
   "metadata": {},
   "outputs": [],
   "source": [
    "wb_tokenizer = BertWordPieceTokenizer(str(out_base / 'wordpiece' / 'vocab.txt' ), \n",
    "                                      clean_text=True, handle_chinese_chars=True,\n",
    "                                      strip_accents=True, lowercase=False)"
   ]
  },
  {
   "cell_type": "markdown",
   "id": "abd02c89-d697-4907-a453-7df06a650220",
   "metadata": {},
   "source": [
    "Remember to remove special tokens during w2v training"
   ]
  },
  {
   "cell_type": "code",
   "execution_count": 108,
   "id": "1c19b72e-30ea-42c9-a9ba-baaa7a5c8755",
   "metadata": {},
   "outputs": [
    {
     "data": {
      "text/plain": [
       "[2, 6399, 1909, 2096, 3]"
      ]
     },
     "execution_count": 108,
     "metadata": {},
     "output_type": "execute_result"
    }
   ],
   "source": [
    "wb_tokenizer.encode('შემომეჭამა').ids"
   ]
  },
  {
   "cell_type": "code",
   "execution_count": 110,
   "id": "1da2493e-7e39-47b8-a5b0-ca368919fa47",
   "metadata": {},
   "outputs": [
    {
     "data": {
      "text/plain": [
       "'შემომეჭამა'"
      ]
     },
     "execution_count": 110,
     "metadata": {},
     "output_type": "execute_result"
    }
   ],
   "source": [
    "wb_tokenizer.decode(wb_tokenizer.encode('შემომეჭამა').ids[1:-1])"
   ]
  },
  {
   "cell_type": "code",
   "execution_count": 4,
   "id": "41b89ef1-9836-427b-ae62-793d43250ae8",
   "metadata": {},
   "outputs": [],
   "source": [
    "from geotok import _basic_georgian_normalize"
   ]
  },
  {
   "cell_type": "code",
   "execution_count": 9,
   "id": "92e3a7a4-34cf-452a-a3bb-f9bd75be6347",
   "metadata": {},
   "outputs": [],
   "source": [
    "epochs = 1\n",
    "def get_subword_sentences():\n",
    "    for i in range(epochs):\n",
    "        with open(data_file) as f:\n",
    "            for line in f:\n",
    "                yield _basic_georgian_normalize(line)\n",
    "        print(f'epoch #{i} done')"
   ]
  },
  {
   "cell_type": "code",
   "execution_count": 10,
   "id": "7f2bd650-2b87-45a0-af4b-cfa27c61cab9",
   "metadata": {},
   "outputs": [],
   "source": [
    "model = Word2Vec(sg=1, \n",
    "                 vector_size=300,  \n",
    "                 workers=12,\n",
    "                 window=12, # subwords need more context\n",
    "                 epochs=1, # epochs are controlled above so we can use effient generator\n",
    "                 seed=1337)"
   ]
  },
  {
   "cell_type": "code",
   "execution_count": 11,
   "id": "c1d9da2c-b977-4c75-9cc2-2183e1451037",
   "metadata": {},
   "outputs": [
    {
     "name": "stdout",
     "output_type": "stream",
     "text": [
      "epoch #0 done\n",
      "epoch #0 done\n"
     ]
    }
   ],
   "source": [
    "epochs = 1 # 1 epoch for vocab training\n",
    "model.build_vocab(get_subword_sentences())\n",
    "total_sentences = sum(1 for _ in get_subword_sentences())"
   ]
  },
  {
   "cell_type": "code",
   "execution_count": 12,
   "id": "76d7050e-552d-41f7-ace3-27cbe2b905f6",
   "metadata": {},
   "outputs": [
    {
     "data": {
      "text/plain": [
       "747262"
      ]
     },
     "execution_count": 12,
     "metadata": {},
     "output_type": "execute_result"
    }
   ],
   "source": [
    "total_sentences"
   ]
  },
  {
   "cell_type": "code",
   "execution_count": 13,
   "id": "4d7424d3-5e86-4246-adb8-a91f3201b793",
   "metadata": {},
   "outputs": [
    {
     "name": "stdout",
     "output_type": "stream",
     "text": [
      "epoch #0 done\n",
      "epoch #1 done\n",
      "epoch #2 done\n",
      "epoch #3 done\n",
      "epoch #4 done\n",
      "epoch #5 done\n",
      "epoch #6 done\n",
      "epoch #7 done\n",
      "epoch #8 done\n",
      "epoch #9 done\n"
     ]
    },
    {
     "data": {
      "text/plain": [
       "(87335322, 116475660)"
      ]
     },
     "execution_count": 13,
     "metadata": {},
     "output_type": "execute_result"
    }
   ],
   "source": [
    "epochs = 10 # n epoch for vocab training\n",
    "model.train(get_subword_sentences(), \n",
    "            total_examples=total_sentences, \n",
    "            epochs=model.epochs\n",
    "           )"
   ]
  },
  {
   "cell_type": "code",
   "execution_count": 14,
   "id": "7f13e071-4033-48e7-8db6-8b128f5a2433",
   "metadata": {},
   "outputs": [],
   "source": [
    "model.save(\"./polished/models/word2vec/fullword.model\")"
   ]
  },
  {
   "cell_type": "code",
   "execution_count": 16,
   "id": "d3424625-6887-4d95-854f-cfcc66d30210",
   "metadata": {},
   "outputs": [
    {
     "data": {
      "text/plain": [
       "[('სოლომონ', 0.8507850170135498),\n",
       " ('ბაგრატ', 0.8443211913108826),\n",
       " ('პაპი', 0.8345552682876587),\n",
       " ('მოსე', 0.824222207069397),\n",
       " ('რომის', 0.8208573460578918),\n",
       " ('ერეკლე', 0.8186022639274597),\n",
       " ('მეფის', 0.8166657090187073),\n",
       " ('ეპისკოპოსი', 0.811444878578186),\n",
       " ('დედოფალი', 0.8107984066009521),\n",
       " ('მეფედ', 0.8099412322044373)]"
      ]
     },
     "execution_count": 16,
     "metadata": {},
     "output_type": "execute_result"
    }
   ],
   "source": [
    "model.wv.most_similar('მეფე')"
   ]
  },
  {
   "cell_type": "code",
   "execution_count": 20,
   "id": "a38bd711-faab-4ef5-96e0-10e980931db4",
   "metadata": {},
   "outputs": [
    {
     "data": {
      "text/plain": [
       "[('კოტე', 0.7473993301391602),\n",
       " ('სოფო', 0.7397592663764954),\n",
       " ('მომღერალი', 0.7386395335197449),\n",
       " ('მაკა', 0.7351353764533997),\n",
       " ('ელენე', 0.7272740006446838),\n",
       " ('ლადო', 0.7189862132072449),\n",
       " ('ლალი', 0.7176459431648254),\n",
       " ('მაია', 0.7154039144515991),\n",
       " ('ფოტოები', 0.7124801874160767),\n",
       " ('მანანა', 0.7120293974876404)]"
      ]
     },
     "execution_count": 20,
     "metadata": {},
     "output_type": "execute_result"
    }
   ],
   "source": [
    "model.wv.most_similar(positive=['სანდრო', 'ქალი'], negative=['კაცი'])"
   ]
  },
  {
   "cell_type": "code",
   "execution_count": 18,
   "id": "4bea928d-9416-456c-8ecc-d772e9208b0a",
   "metadata": {},
   "outputs": [
    {
     "data": {
      "text/plain": [
       "[('პაწია', 0.9774032831192017),\n",
       " ('ჭუჭყიანი', 0.9709874987602234),\n",
       " ('თუთიყუში', 0.9700448513031006),\n",
       " ('პერანგი', 0.9688372015953064),\n",
       " ('ცხენები', 0.9684747457504272),\n",
       " ('პაწაწინა', 0.9683911800384521),\n",
       " ('თაროზე', 0.966964840888977),\n",
       " ('ხარი', 0.9656761288642883),\n",
       " ('თაგვი', 0.9652339220046997),\n",
       " ('იღიმება', 0.96466463804245)]"
      ]
     },
     "execution_count": 18,
     "metadata": {},
     "output_type": "execute_result"
    }
   ],
   "source": [
    "model.wv.most_similar('ღორი')"
   ]
  },
  {
   "cell_type": "code",
   "execution_count": null,
   "id": "29c8cc39-4f1a-4c81-95d4-efa19c658177",
   "metadata": {},
   "outputs": [],
   "source": []
  }
 ],
 "metadata": {
  "kernelspec": {
   "display_name": "Python 3 (ipykernel)",
   "language": "python",
   "name": "python3"
  },
  "language_info": {
   "codemirror_mode": {
    "name": "ipython",
    "version": 3
   },
   "file_extension": ".py",
   "mimetype": "text/x-python",
   "name": "python",
   "nbconvert_exporter": "python",
   "pygments_lexer": "ipython3",
   "version": "3.10.5"
  }
 },
 "nbformat": 4,
 "nbformat_minor": 5
}
