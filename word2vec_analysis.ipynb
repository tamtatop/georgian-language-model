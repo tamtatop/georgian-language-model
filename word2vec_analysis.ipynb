{
 "cells": [
  {
   "cell_type": "code",
   "execution_count": 2,
   "id": "be2a9b4d-8066-4e18-a040-098526a4e598",
   "metadata": {},
   "outputs": [],
   "source": [
    "from gensim.models import Word2Vec\n",
    "import numpy as np\n",
    "from sklearn.decomposition import TruncatedSVD\n",
    "from nltk import ngrams\n",
    "import seaborn as sns\n",
    "from collections import Counter\n",
    "from wordcloud import WordCloud\n",
    "import matplotlib.pyplot as plt"
   ]
  },
  {
   "cell_type": "code",
   "execution_count": 3,
   "id": "a71652c5-5de4-49d8-8bd5-bb2b87bfbbd5",
   "metadata": {},
   "outputs": [],
   "source": [
    "model = Word2Vec.load(\"./models/word2vec/final_10mil_word2vec.model\")"
   ]
  },
  {
   "cell_type": "code",
   "execution_count": 3,
   "id": "9c18f0b5-37a0-4f7f-805b-7a4d79af09c3",
   "metadata": {},
   "outputs": [
    {
     "data": {
      "text/plain": [
       "<gensim.models.keyedvectors.KeyedVectors at 0x7fb490bdf640>"
      ]
     },
     "execution_count": 3,
     "metadata": {},
     "output_type": "execute_result"
    }
   ],
   "source": [
    "model.wv"
   ]
  },
  {
   "cell_type": "code",
   "execution_count": 4,
   "id": "bb372817-a367-4860-b554-df97b4cf4828",
   "metadata": {},
   "outputs": [
    {
     "data": {
      "text/plain": [
       "[('საპალნე', 0.6183655261993408),\n",
       " ('კვერნა', 0.6136003732681274),\n",
       " ('ძროხა', 0.610450029373169),\n",
       " ('შველი', 0.6093327403068542),\n",
       " ('ხოხობი', 0.6033813953399658),\n",
       " ('ფოცხვერი', 0.6029626131057739),\n",
       " ('ცხვარი', 0.6016797423362732),\n",
       " ('თხას', 0.6004265546798706),\n",
       " ('ჭაკი', 0.597181499004364),\n",
       " ('სვეს', 0.5964937210083008)]"
      ]
     },
     "execution_count": 4,
     "metadata": {},
     "output_type": "execute_result"
    }
   ],
   "source": [
    "model.wv.most_similar('თხა')"
   ]
  },
  {
   "cell_type": "code",
   "execution_count": 5,
   "id": "e696cc94-dfcb-4e7b-aa79-e302fe2b2c32",
   "metadata": {},
   "outputs": [],
   "source": [
    "# model.save(\"word2vec.model\")"
   ]
  },
  {
   "cell_type": "markdown",
   "id": "347c57cc-a85c-4f99-8fd8-35a28de7ef4a",
   "metadata": {
    "tags": []
   },
   "source": [
    "### Visualizing Word Embeddings"
   ]
  },
  {
   "cell_type": "code",
   "execution_count": 6,
   "id": "bc373bf7-fd59-427c-a01f-910c49f9a624",
   "metadata": {},
   "outputs": [],
   "source": [
    "def reduce_to_k_dim(M, k=2):\n",
    "    \"\"\" Reduce a co-occurence count matrix of dimensionality (num_corpus_words, num_corpus_words)\n",
    "        to a matrix of dimensionality (num_corpus_words, k) with SVD\n",
    "    \"\"\"    \n",
    "    n_iters = 10\n",
    "    M_reduced = None\n",
    "    print(\"Running Truncated SVD over %i words...\" % (M.shape[0]))\n",
    "    \n",
    "    svd = TruncatedSVD(n_components=k, n_iter=n_iters)\n",
    "    M_reduced = svd.fit_transform(M)\n",
    "    print(M_reduced)\n",
    "\n",
    "    print(\"Done.\")\n",
    "    return M_reduced"
   ]
  },
  {
   "cell_type": "code",
   "execution_count": 7,
   "id": "b785a0bb-8dd9-4856-97fe-abf1e62258ea",
   "metadata": {},
   "outputs": [],
   "source": [
    "def get_matrix_of_vectors(wv_from_bin, required_words):\n",
    "    \"\"\" Put the Word2Vec vectors into a matrix M.\n",
    "        Param:\n",
    "            wv_from_bin: KeyedVectors object; the 400000 GloVe vectors loaded from file\n",
    "        Return:\n",
    "            M: numpy matrix shape (num words, 200) containing the vectors\n",
    "            word2ind: dictionary mapping each word to its row number in M\n",
    "    \"\"\"\n",
    "    import random\n",
    "    words = list(wv_from_bin.index_to_key)\n",
    "    print(\"Shuffling words ...\")\n",
    "    random.seed(225)\n",
    "    random.shuffle(words)\n",
    "    words = words[:10000]\n",
    "    print(\"Putting %i words into word2ind and matrix M...\" % len(words))\n",
    "    word2ind = {}\n",
    "    M = []\n",
    "    curInd = 0\n",
    "    for w in words:\n",
    "        try:\n",
    "            M.append(wv_from_bin.get_vector(w))\n",
    "            word2ind[w] = curInd\n",
    "            curInd += 1\n",
    "        except KeyError:\n",
    "            continue\n",
    "    for w in required_words:\n",
    "        if w in words:\n",
    "            continue\n",
    "        try:\n",
    "            M.append(wv_from_bin.get_vector(w))\n",
    "            word2ind[w] = curInd\n",
    "            curInd += 1\n",
    "        except KeyError:\n",
    "            continue\n",
    "    M = np.stack(M)\n",
    "    print(\"Done.\")\n",
    "    return M, word2ind"
   ]
  },
  {
   "cell_type": "code",
   "execution_count": 8,
   "id": "e14f7d36-6891-4a80-bfbc-e16c3bd029fe",
   "metadata": {},
   "outputs": [],
   "source": [
    "def plot_embeddings(M_reduced, word2ind, words):\n",
    "    \"\"\" Plot in a scatterplot the embeddings of the words specified in the list \"words\" \"\"\"\n",
    "    for word in words:\n",
    "        word_vec = M_reduced[word2ind[word]]\n",
    "        plt.scatter(word_vec[0], word_vec[1], marker='x', color='red')\n",
    "        plt.text(word_vec[0], word_vec[1], word, fontsize=9)\n",
    "    plt.show()"
   ]
  },
  {
   "cell_type": "code",
   "execution_count": 9,
   "id": "df136961-1bd7-4944-802d-dd2b369b7b4d",
   "metadata": {},
   "outputs": [],
   "source": [
    "from sklearn.decomposition import TruncatedSVD\n",
    "import numpy as np"
   ]
  },
  {
   "cell_type": "code",
   "execution_count": 10,
   "id": "283debdb-d851-4d28-8cae-1b120f11faa5",
   "metadata": {},
   "outputs": [],
   "source": [
    "words = [\"მეფე\", \"დედოფალი\", \"ქალი\", \"კაცი\"]"
   ]
  },
  {
   "cell_type": "code",
   "execution_count": 11,
   "id": "cee16273-c81f-48bf-9c1f-6b8f68a5b783",
   "metadata": {},
   "outputs": [
    {
     "name": "stdout",
     "output_type": "stream",
     "text": [
      "Shuffling words ...\n",
      "Putting 10000 words into word2ind and matrix M...\n",
      "Done.\n",
      "Running Truncated SVD over 10004 words...\n",
      "[[ 1.2632722   0.7533579 ]\n",
      " [ 1.8135431   0.7572123 ]\n",
      " [ 1.6325737   1.5043888 ]\n",
      " ...\n",
      " [ 1.8405628   0.16774705]\n",
      " [ 1.8215071  -0.3846947 ]\n",
      " [ 1.7830372  -0.5760653 ]]\n",
      "Done.\n"
     ]
    }
   ],
   "source": [
    "# -----------------------------------------------------------------\n",
    "# Run Cell to Reduce 200-Dimensional Word Embeddings to k Dimensions\n",
    "# Note: This should be quick to run\n",
    "# -----------------------------------------------------------------\n",
    "M, word2ind = get_matrix_of_vectors(model.wv, words)\n",
    "M_reduced = reduce_to_k_dim(M, k=2)\n",
    "\n",
    "# Rescale (normalize) the rows to make them each of unit-length\n",
    "M_lengths = np.linalg.norm(M_reduced, axis=1)\n",
    "M_reduced_normalized = M_reduced / M_lengths[:, np.newaxis] # broadcasting"
   ]
  },
  {
   "cell_type": "code",
   "execution_count": 35,
   "id": "826a05d0-b5f3-44c5-920f-a4c74683a164",
   "metadata": {},
   "outputs": [],
   "source": [
    "sns.set(font_scale=1)"
   ]
  },
  {
   "cell_type": "code",
   "execution_count": 36,
   "id": "7b4e7a5e-ef72-4639-a96a-e8320a4683f3",
   "metadata": {},
   "outputs": [
    {
     "data": {
      "image/png": "[encoded data removed]",
      "text/plain": [
       "<Figure size 432x288 with 1 Axes>"
      ]
     },
     "metadata": {},
     "output_type": "display_data"
    }
   ],
   "source": [
    "plot_embeddings(M_reduced_normalized, word2ind, words)"
   ]
  },
  {
   "cell_type": "code",
   "execution_count": 14,
   "id": "ec254d56-ffe8-40ab-8cc8-1d44589592fb",
   "metadata": {},
   "outputs": [
    {
     "data": {
      "text/plain": [
       "[('ტახტზე', 0.40144285559654236),\n",
       " ('i-ის', 0.3835844397544861),\n",
       " ('xii-ის', 0.3802604675292969),\n",
       " ('დედოფალი', 0.3790145218372345),\n",
       " ('მეფის', 0.3770633339881897),\n",
       " ('სიგიზმუნდ', 0.37378668785095215),\n",
       " ('მეფობდა', 0.3683779537677765),\n",
       " ('iii-ის', 0.36777937412261963),\n",
       " ('მეფეები', 0.3605758547782898),\n",
       " ('დემეტრე', 0.3586062788963318)]"
      ]
     },
     "execution_count": 14,
     "metadata": {},
     "output_type": "execute_result"
    }
   ],
   "source": [
    "model.wv.most_similar(positive=['მეფე', 'ქალი'], negative=['კაცი'])"
   ]
  },
  {
   "cell_type": "code",
   "execution_count": 29,
   "id": "f6bf7fab-9be4-422d-aa27-2cd6ed350c34",
   "metadata": {},
   "outputs": [
    {
     "data": {
      "text/plain": [
       "[('კირჩხიბი', 0.575498104095459),\n",
       " ('ღრიანკალი', 0.537632405757904),\n",
       " ('კურო', 0.5362414717674255),\n",
       " ('მორიელი', 0.5302557349205017),\n",
       " ('ვერძი', 0.5221663117408752),\n",
       " ('მერწყული', 0.5191493630409241),\n",
       " ('შეთავსების', 0.504426896572113),\n",
       " ('ურთიერთნდობა', 0.5035413503646851),\n",
       " ('სასწორი', 0.48609426617622375),\n",
       " ('თევზები', 0.4859570562839508)]"
      ]
     },
     "execution_count": 29,
     "metadata": {},
     "output_type": "execute_result"
    }
   ],
   "source": [
    "model.wv.most_similar(\n",
    "    positive=['მშვილდოსანი', 'ცოლი'], \n",
    "    negative=['ქმარი']\n",
    ")"
   ]
  },
  {
   "cell_type": "code",
   "execution_count": 31,
   "id": "83a070f3-3b30-4e68-8ce6-799f8ecfb1ad",
   "metadata": {},
   "outputs": [
    {
     "data": {
      "text/plain": [
       "[('ზურაშვილი', 0.5313971638679504),\n",
       " ('კაკიაშვილი', 0.5305842161178589),\n",
       " ('ნატუკა', 0.5259012579917908),\n",
       " ('ზურა333', 0.5243187546730042),\n",
       " ('ლევანიკო', 0.5229456424713135),\n",
       " ('ჟივიძე', 0.5224558711051941),\n",
       " ('საშველები', 0.5186235904693604),\n",
       " ('ზაქაიძე', 0.518191397190094),\n",
       " ('ბუღრიძე', 0.5173429250717163),\n",
       " ('მრევლიშვილი', 0.5168269276618958)]"
      ]
     },
     "execution_count": 31,
     "metadata": {},
     "output_type": "execute_result"
    }
   ],
   "source": [
    "model.wv.most_similar(\n",
    "    positive=['ბაქარი', 'ცოლი'], \n",
    "    negative=['ქმარი']\n",
    ")"
   ]
  },
  {
   "cell_type": "code",
   "execution_count": 32,
   "id": "34c2bc63-fcbf-4e3f-bb21-60261971cdc2",
   "metadata": {},
   "outputs": [
    {
     "data": {
      "text/plain": [
       "[('ადამიანი', 0.35643741488456726),\n",
       " ('ხანია', 0.33954620361328125),\n",
       " ('ბავშვის', 0.33606427907943726),\n",
       " ('უდიდესი', 0.32642653584480286),\n",
       " ('აუნაზღაურებელი', 0.3238275349140167),\n",
       " ('რამხელა', 0.31815198063850403),\n",
       " ('არასრულწლოვანია', 0.31586235761642456),\n",
       " ('სადისტური', 0.31162646412849426),\n",
       " ('ბავშვები', 0.30134543776512146),\n",
       " ('ხარჯვაა', 0.29946595430374146)]"
      ]
     },
     "execution_count": 32,
     "metadata": {},
     "output_type": "execute_result"
    }
   ],
   "source": [
    "model.wv.most_similar(\n",
    "    positive=['ბავშვი', 'დიდი'], \n",
    "    negative=['პატარა'])"
   ]
  },
  {
   "cell_type": "code",
   "execution_count": 30,
   "id": "afdf4d6b-d24e-48d4-81bd-9b49660c7d99",
   "metadata": {},
   "outputs": [
    {
     "data": {
      "text/plain": [
       "[('შესანიშნავი', 0.45644110441207886),\n",
       " ('დიდებული', 0.43956077098846436),\n",
       " ('ჩინებული', 0.438639760017395),\n",
       " ('დააგვირგვინა', 0.4363951086997986),\n",
       " ('მაზიარა', 0.4328196942806244),\n",
       " ('ღვთიური', 0.4310285151004791),\n",
       " ('საუცხოო', 0.4308733344078064),\n",
       " ('მშვენიერი', 0.43077394366264343),\n",
       " ('დახვეწილობით', 0.42676424980163574),\n",
       " ('რეჟისურით', 0.42587947845458984)]"
      ]
     },
     "execution_count": 30,
     "metadata": {},
     "output_type": "execute_result"
    }
   ],
   "source": [
    "model.wv.most_similar(\"ბრწყინვალე\")"
   ]
  },
  {
   "cell_type": "code",
   "execution_count": null,
   "id": "2086f7b7-6a85-48db-ad0f-faeefaa32788",
   "metadata": {},
   "outputs": [],
   "source": []
  }
 ],
 "metadata": {
  "kernelspec": {
   "display_name": "Python 3 (ipykernel)",
   "language": "python",
   "name": "python3"
  },
  "language_info": {
   "codemirror_mode": {
    "name": "ipython",
    "version": 3
   },
   "file_extension": ".py",
   "mimetype": "text/x-python",
   "name": "python",
   "nbconvert_exporter": "python",
   "pygments_lexer": "ipython3",
   "version": "3.10.5"
  }
 },
 "nbformat": 4,
 "nbformat_minor": 5
}
