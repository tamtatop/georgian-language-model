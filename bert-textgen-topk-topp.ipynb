{
 "cells": [
  {
   "cell_type": "code",
   "execution_count": 1,
   "id": "6144c550-4f8a-4ed1-8ee1-2b309a40bdcd",
   "metadata": {},
   "outputs": [],
   "source": [
    "from transformers import pipeline\n",
    "from transformers import BertForMaskedLM\n",
    "from transformers import BertTokenizer\n",
    "import torch.nn"
   ]
  },
  {
   "cell_type": "code",
   "execution_count": 2,
   "id": "0d84e9ce-2a16-466d-92b5-3e71c08e3904",
   "metadata": {},
   "outputs": [
    {
     "name": "stderr",
     "output_type": "stream",
     "text": [
      "Some weights of the model checkpoint at ./models/bert/en/enbert/checkpoint-70000/ were not used when initializing BertForMaskedLM: ['cls.seq_relationship.bias', 'cls.seq_relationship.weight']\n",
      "- This IS expected if you are initializing BertForMaskedLM from the checkpoint of a model trained on another task or with another architecture (e.g. initializing a BertForSequenceClassification model from a BertForPreTraining model).\n",
      "- This IS NOT expected if you are initializing BertForMaskedLM from the checkpoint of a model that you expect to be exactly identical (initializing a BertForSequenceClassification model from a BertForSequenceClassification model).\n"
     ]
    }
   ],
   "source": [
    "model = BertForMaskedLM.from_pretrained('./models/bert/en/enbert/checkpoint-70000/')"
   ]
  },
  {
   "cell_type": "code",
   "execution_count": 3,
   "id": "db5517cb-c0c1-450d-9e61-d6b85554e4c5",
   "metadata": {},
   "outputs": [],
   "source": [
    "import torch"
   ]
  },
  {
   "cell_type": "code",
   "execution_count": 4,
   "id": "4204f0bc-768c-4fc9-9815-de388dcf7e1a",
   "metadata": {},
   "outputs": [],
   "source": [
    "tokenizer = BertTokenizer.from_pretrained ('./models/bert/en/entok/')"
   ]
  },
  {
   "cell_type": "code",
   "execution_count": 5,
   "id": "04ac3367-7b32-4f20-8195-5376b96c48f0",
   "metadata": {},
   "outputs": [],
   "source": [
    "token_ids = tokenizer('გარეთ წვიმს. იმედია ხვალ შევძლებთ, რომ')['input_ids']"
   ]
  },
  {
   "cell_type": "code",
   "execution_count": 6,
   "id": "ce7d4836-1010-43df-a028-0b192f81d8d4",
   "metadata": {},
   "outputs": [],
   "source": [
    "token_ids = token_ids[:-1]"
   ]
  },
  {
   "cell_type": "code",
   "execution_count": 7,
   "id": "93365250-f220-4a4e-ae00-bd8f2b1f9481",
   "metadata": {},
   "outputs": [],
   "source": [
    "token_ids = token_ids + [tokenizer.mask_token_id]"
   ]
  },
  {
   "cell_type": "code",
   "execution_count": 8,
   "id": "3de4302c-e4ee-4688-bec3-3ce528921777",
   "metadata": {},
   "outputs": [
    {
     "data": {
      "text/plain": [
       "['[CLS]',\n",
       " 'გარეთ',\n",
       " 'წვიმ',\n",
       " '##ს',\n",
       " '.',\n",
       " 'იმედია',\n",
       " 'ხვალ',\n",
       " 'შევძლებთ',\n",
       " ',',\n",
       " 'რომ',\n",
       " '[MASK]']"
      ]
     },
     "execution_count": 8,
     "metadata": {},
     "output_type": "execute_result"
    }
   ],
   "source": [
    "tokenizer.convert_ids_to_tokens(token_ids)"
   ]
  },
  {
   "cell_type": "code",
   "execution_count": 9,
   "id": "b2e192db-67ef-4701-b02b-9ec81b4b80be",
   "metadata": {},
   "outputs": [],
   "source": [
    "token_ids = torch.tensor(token_ids).view((1, -1))\n",
    "                                        # (n, )   (1, -1) (1, n)"
   ]
  },
  {
   "cell_type": "code",
   "execution_count": 11,
   "id": "db1b9984-ce47-4671-92eb-3ab0dfd4dffd",
   "metadata": {},
   "outputs": [
    {
     "data": {
      "text/plain": [
       "tensor([-9.3978, -2.7374, -2.5754,  ..., -3.8149, -2.7380, -1.4564],\n",
       "       grad_fn=<SliceBackward0>)"
      ]
     },
     "execution_count": 11,
     "metadata": {},
     "output_type": "execute_result"
    }
   ],
   "source": [
    "probs = model(input_ids=token_ids).logits[0, -1, :]\n",
    "probs"
   ]
  },
  {
   "cell_type": "code",
   "execution_count": 12,
   "id": "8180ce8c-415b-4817-8dd5-1213c4d01460",
   "metadata": {},
   "outputs": [],
   "source": [
    "tops = list(reversed(list(sorted([(v, i) for i, v in enumerate(probs)]))))[:20]"
   ]
  },
  {
   "cell_type": "code",
   "execution_count": 13,
   "id": "df32b910-af8e-4d7f-ad6a-b158643a3ed4",
   "metadata": {},
   "outputs": [
    {
     "data": {
      "text/plain": [
       "[(tensor(6.9921, grad_fn=<UnbindBackward0>), 1331),\n",
       " (tensor(6.2411, grad_fn=<UnbindBackward0>), 1666),\n",
       " (tensor(6.0535, grad_fn=<UnbindBackward0>), 1573),\n",
       " (tensor(6.0422, grad_fn=<UnbindBackward0>), 1382),\n",
       " (tensor(5.7928, grad_fn=<UnbindBackward0>), 1833),\n",
       " (tensor(5.7887, grad_fn=<UnbindBackward0>), 1404),\n",
       " (tensor(5.7439, grad_fn=<UnbindBackward0>), 16),\n",
       " (tensor(5.5634, grad_fn=<UnbindBackward0>), 1377),\n",
       " (tensor(5.5562, grad_fn=<UnbindBackward0>), 2314),\n",
       " (tensor(5.4576, grad_fn=<UnbindBackward0>), 2377),\n",
       " (tensor(5.3419, grad_fn=<UnbindBackward0>), 1550),\n",
       " (tensor(5.3312, grad_fn=<UnbindBackward0>), 2216),\n",
       " (tensor(5.2471, grad_fn=<UnbindBackward0>), 2759),\n",
       " (tensor(5.1502, grad_fn=<UnbindBackward0>), 1655),\n",
       " (tensor(5.1298, grad_fn=<UnbindBackward0>), 1562),\n",
       " (tensor(5.0849, grad_fn=<UnbindBackward0>), 2192),\n",
       " (tensor(4.8996, grad_fn=<UnbindBackward0>), 1479),\n",
       " (tensor(4.7708, grad_fn=<UnbindBackward0>), 1481),\n",
       " (tensor(4.7010, grad_fn=<UnbindBackward0>), 2326),\n",
       " (tensor(4.6725, grad_fn=<UnbindBackward0>), 3801)]"
      ]
     },
     "execution_count": 13,
     "metadata": {},
     "output_type": "execute_result"
    }
   ],
   "source": [
    "tops"
   ]
  },
  {
   "cell_type": "code",
   "execution_count": 14,
   "id": "cc466356-b419-4636-881e-57a28ecf6bf2",
   "metadata": {},
   "outputs": [
    {
     "data": {
      "text/plain": [
       "['არ',\n",
       " 'ძალიან',\n",
       " 'ასე',\n",
       " 'ის',\n",
       " 'ისე',\n",
       " 'ეს',\n",
       " ',',\n",
       " 'მე',\n",
       " 'კარგი',\n",
       " 'კარგად',\n",
       " 'ვერ',\n",
       " 'ყველაფერი',\n",
       " 'მინდა',\n",
       " 'თქვენ',\n",
       " 'ჩვენ',\n",
       " 'ბევრი',\n",
       " 'კი',\n",
       " 'უნდა',\n",
       " 'აღარ',\n",
       " 'ყველაფერს']"
      ]
     },
     "execution_count": 14,
     "metadata": {},
     "output_type": "execute_result"
    }
   ],
   "source": [
    "tokenizer.convert_ids_to_tokens([i for _, i in tops])"
   ]
  },
  {
   "cell_type": "code",
   "execution_count": 15,
   "id": "314ab6be-8a5f-41b7-8804-ca568c59265d",
   "metadata": {},
   "outputs": [],
   "source": [
    "def generator(token_ids: list[int]):\n",
    "    if token_ids[-1] == tokenizer.sep_token_id:\n",
    "        token_ids = token_ids[:-1]\n",
    "    token_ids = token_ids + [tokenizer.mask_token_id]\n",
    "    token_ids = torch.tensor(token_ids).view((1, -1))\n",
    "    #print(token_ids)\n",
    "    #print((tokenizer.convert_ids_to_tokens(list(token_ids))))\n",
    "    probs = model(input_ids=token_ids).logits[0, -1, :]   \n",
    "    return probs"
   ]
  },
  {
   "cell_type": "code",
   "execution_count": 16,
   "id": "954bf744-90c9-4364-9c0a-a94e154ae0e0",
   "metadata": {},
   "outputs": [],
   "source": [
    "def get_perplexity(sentence: str):\n",
    "    token_ids = tokenizer(sentence)['input_ids']\n",
    "    sent = []\n",
    "    perp = 1\n",
    "    for i in range(len(token_ids) - 1):\n",
    "        sent.append(token_ids[i])\n",
    "        perp = perp + torch.log(torch.nn.Softmax(dim=0)(generator(sent))[token_ids[i+1]])\n",
    "    return torch.exp(-perp/tokenizer.vocab_size)"
   ]
  },
  {
   "cell_type": "code",
   "execution_count": 17,
   "id": "119478d5-9e35-4d25-8542-a975bbcbcb4a",
   "metadata": {},
   "outputs": [
    {
     "data": {
      "text/plain": [
       "tensor(1.0017, grad_fn=<ExpBackward0>)"
      ]
     },
     "execution_count": 17,
     "metadata": {},
     "output_type": "execute_result"
    }
   ],
   "source": [
    "get_perplexity('გამარჯობა, ნახვამდის.')"
   ]
  },
  {
   "cell_type": "code",
   "execution_count": 155,
   "id": "3d24b8fe-f588-481c-821b-07d30b188d34",
   "metadata": {},
   "outputs": [],
   "source": [
    "def get_top_k_top_p(sentence: str, k: int):\n",
    "    probs = generator(tokenizer(sentence)['input_ids'])\n",
    "    tops = list(reversed(list(sorted([(v, i) for i, v in enumerate(probs)]))))[:k]\n",
    "    return tokenizer.convert_ids_to_tokens([i for _, i in tops])"
   ]
  },
  {
   "cell_type": "code",
   "execution_count": null,
   "id": "3616191f-7aa3-487f-b887-025dc5216457",
   "metadata": {},
   "outputs": [],
   "source": [
    "get_top_k('დღეს თბილისის 128 საჯარო სკოლაში ჩატარდა', 20)"
   ]
  },
  {
   "cell_type": "code",
   "execution_count": 25,
   "id": "9ad00f43-719c-441b-adc3-9e03ddafcda4",
   "metadata": {},
   "outputs": [
    {
     "data": {
      "text/plain": [
       "tensor([-10.6936,  -1.7466,  -2.6995,  ...,  -4.9306,  -5.2190,  -3.6105],\n",
       "       grad_fn=<SliceBackward0>)"
      ]
     },
     "execution_count": 25,
     "metadata": {},
     "output_type": "execute_result"
    }
   ],
   "source": [
    "logits = generator(tokenizer('დღეს თბილისის 128 საჯარო სკოლაში ჩატარდა')['input_ids'])\n",
    "logits"
   ]
  },
  {
   "cell_type": "code",
   "execution_count": 23,
   "id": "656b1e01-8984-4022-8485-9ab2d7641ad3",
   "metadata": {},
   "outputs": [],
   "source": [
    "def top_k_top_p(logits, top_k=0, top_p=0.0):\n",
    "    top_k = min(top_k, logits.size(-1)) # make sure top_k is smaller than logit size\n",
    "    if top_k > 0:\n",
    "        # keep only top_k entries\n",
    "        rm_id = logits < torch.topk(logits, top_k)[0][..., -1, None]\n",
    "        logits[rm_id] = -float('inf')\n",
    "        \n",
    "    if top_p > 0:\n",
    "        # keep entries that sum up to top_p percentage\n",
    "        sorted_logits, sorted_ids = torch.sort(logits, descending=True)\n",
    "        cum_probs = torch.cumsum(torch.softmax(sorted_logits, dim=-1), dim=-1)\n",
    "        \n",
    "        sorted_rm_id = cum_probs > top_p\n",
    "        sorted_rm_id[..., 1:] = sorted_rm_id[..., :-1].clone()\n",
    "        sorted_rm_id[..., 0] = 0\n",
    "        \n",
    "        rm_id = sorted_ids[sorted_rm_id]\n",
    "        logits[rm_id] = -float('inf')\n",
    "        \n",
    "    return logits"
   ]
  },
  {
   "cell_type": "code",
   "execution_count": 53,
   "id": "a72940e8-6a35-49dc-ba35-1a0b95d68ffb",
   "metadata": {},
   "outputs": [
    {
     "data": {
      "text/plain": [
       "'თბილისის'"
      ]
     },
     "execution_count": 53,
     "metadata": {},
     "output_type": "execute_result"
    }
   ],
   "source": [
    "out = top_k_top_p(logits, top_k=50, top_p=0.9)\n",
    "probs = torch.softmax(logits, dim=-1)\n",
    "next_token = torch.multinomial(probs, 1)\n",
    "tokenizer.ids_to_tokens[next_token.data.item()]"
   ]
  },
  {
   "cell_type": "code",
   "execution_count": null,
   "id": "0e8c1969-a8a0-42b8-9fc5-29098de7009e",
   "metadata": {},
   "outputs": [],
   "source": []
  }
 ],
 "metadata": {
  "kernelspec": {
   "display_name": "Python 3 (ipykernel)",
   "language": "python",
   "name": "python3"
  },
  "language_info": {
   "codemirror_mode": {
    "name": "ipython",
    "version": 3
   },
   "file_extension": ".py",
   "mimetype": "text/x-python",
   "name": "python",
   "nbconvert_exporter": "python",
   "pygments_lexer": "ipython3",
   "version": "3.10.5"
  }
 },
 "nbformat": 4,
 "nbformat_minor": 5
}
