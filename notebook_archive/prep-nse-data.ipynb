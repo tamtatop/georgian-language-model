{
 "cells": [
  {
   "cell_type": "code",
   "execution_count": 1,
   "id": "f47af274-ec2e-461c-bb78-2fb26e7b1945",
   "metadata": {},
   "outputs": [],
   "source": [
    "import torchtext\n",
    "import re\n",
    "import numpy as np\n",
    "from torchtext.data import get_tokenizer"
   ]
  },
  {
   "cell_type": "code",
   "execution_count": 2,
   "id": "9f937c16-c9f8-4d87-9231-79061e9e5628",
   "metadata": {},
   "outputs": [],
   "source": [
    "def flatten(container):\n",
    "    for c in container:\n",
    "        for i in c:\n",
    "            yield i"
   ]
  },
  {
   "cell_type": "code",
   "execution_count": 3,
   "id": "48bc0247-691d-4e01-a125-a359d2beeef0",
   "metadata": {},
   "outputs": [],
   "source": [
    "from typing import List, Callable\n",
    "def get_raw_data(path_to_ka_data: str) -> List[str]:\n",
    "    f = open(path_to_ka_data)\n",
    "    N_DATA_WORDS = 10_000_000\n",
    "    data = f.read(N_DATA_WORDS*10)\n",
    "    f.close()\n",
    "    lines = data.splitlines()\n",
    "    return lines"
   ]
  },
  {
   "cell_type": "code",
   "execution_count": 4,
   "id": "e057d88e-607e-419b-a3a9-9579bdcc8fac",
   "metadata": {},
   "outputs": [],
   "source": [
    "# TO CHANGE DATA SOURCE CHANGE THIS\n",
    "get_data: Callable[str, List[str]] = lambda: get_raw_data('./data/en_part_670.txt')"
   ]
  },
  {
   "cell_type": "code",
   "execution_count": 5,
   "id": "c501ccad-d1a8-4cd1-bbb0-4df01673c204",
   "metadata": {},
   "outputs": [],
   "source": [
    "# TODO: should we take functions out of notebook?\n",
    "from geotok import _basic_georgian_normalize"
   ]
  },
  {
   "cell_type": "code",
   "execution_count": 12,
   "id": "a8f6d4c8-a704-4804-bf30-b27a505bdf74",
   "metadata": {},
   "outputs": [],
   "source": [
    "# TO CHANGE TOKENIZATION METHOD CHANGE THIS\n",
    "tokenizer = get_tokenizer(_basic_georgian_normalize)"
   ]
  },
  {
   "cell_type": "code",
   "execution_count": 7,
   "id": "f4408493-0d0c-47cd-91ae-89330ed80136",
   "metadata": {},
   "outputs": [
    {
     "data": {
      "text/plain": [
       "['20/20/2020',\n",
       " 'მაგარი',\n",
       " 'თარიღია',\n",
       " '.',\n",
       " 'ძვ',\n",
       " ';',\n",
       " 'წ',\n",
       " ';',\n",
       " '2020',\n",
       " 'წელიც',\n",
       " 'მაგარი',\n",
       " 'იყო',\n",
       " '.']"
      ]
     },
     "execution_count": 7,
     "metadata": {},
     "output_type": "execute_result"
    }
   ],
   "source": [
    "tokenizer('20.20.2020 მაგარი თარიღია. ძვ.წ. 2020 წელიც მაგარი იყო.')"
   ]
  },
  {
   "cell_type": "code",
   "execution_count": 8,
   "id": "431c57c9-6d9d-41a0-9444-98d69ce6d6d3",
   "metadata": {},
   "outputs": [],
   "source": [
    "original_data = get_data()"
   ]
  },
  {
   "cell_type": "code",
   "execution_count": 9,
   "id": "62a3b365-5d47-4051-a1bd-affff6b35c66",
   "metadata": {},
   "outputs": [],
   "source": [
    "data = list(map(tokenizer, original_data))"
   ]
  },
  {
   "cell_type": "code",
   "execution_count": 11,
   "id": "9ce95a64-a56c-4387-85cd-9a9b92b9272c",
   "metadata": {},
   "outputs": [
    {
     "data": {
      "text/plain": [
       "294365"
      ]
     },
     "execution_count": 11,
     "metadata": {},
     "output_type": "execute_result"
    },
    {
     "name": "stderr",
     "output_type": "stream",
     "text": [
      "Bad pipe message: %s [b'Mh\\xbe\\x82\\x03\\x0fb\\xed\\xc3P\\xd23\\x8fS\\xc5\\x02;% 3\\x0f}d\\xddIk$|\\xafa\\x1c\\x9cU\\xeend&,\\xe6\\xa3\\x85t\\x86C#\\xcc\\xbd+\\x15\\xfd\\xea\\x00\\x08\\x13\\x02\\x13\\x03\\x13\\x01\\x00\\xff\\x01\\x00\\x00\\x8f\\x00\\x00\\x00\\x0e\\x00\\x0c\\x00\\x00\\t127.0.0.1\\x00\\x0b\\x00\\x04\\x03\\x00\\x01\\x02\\x00\\n\\x00']\n",
      "Bad pipe message: %s [b'\\n\\x00\\x1d\\x00\\x17\\x00\\x1e\\x00\\x19\\x00\\x18']\n",
      "Bad pipe message: %s [b'DB\\xe0\\xb8\\xb4\\xa8\\xb2\\xff\\xa7\\xbfq\\xe7\\x95\\xc7\\xa87\\xc1\\xc1\\x00\\x00|\\xc0,\\xc00\\x00\\xa3\\x00\\x9f\\xcc\\xa9\\xcc\\xa8\\xcc\\xaa\\xc0\\xaf\\xc0\\xad\\xc0\\xa3\\xc0\\x9f\\xc0]\\xc0a\\xc0W\\xc0S\\xc0+\\xc0/\\x00\\xa2']\n",
      "Bad pipe message: %s [b\"\\x08\\x8b\\x1e\\xb5p\\xbeN\\xb5\\xc6@r\\xf1Q\\x14\\x02\\xd5\\xa3`\\x00\\x00\\xa6\\xc0,\\xc00\\x00\\xa3\\x00\\x9f\\xcc\\xa9\\xcc\\xa8\\xcc\\xaa\\xc0\\xaf\\xc0\\xad\\xc0\\xa3\\xc0\\x9f\\xc0]\\xc0a\\xc0W\\xc0S\\xc0+\\xc0/\\x00\\xa2\\x00\\x9e\\xc0\\xae\\xc0\\xac\\xc0\\xa2\\xc0\\x9e\\xc0\\\\\\xc0`\\xc0V\\xc0R\\xc0$\\xc0(\\x00k\\x00j\\xc0s\\xc0w\\x00\\xc4\\x00\\xc3\\xc0#\\xc0'\\x00g\\x00@\\xc0r\\xc0v\\x00\\xbe\\x00\\xbd\\xc0\\n\\xc0\\x14\\x009\\x008\\x00\\x88\\x00\\x87\\xc0\\t\\xc0\\x13\\x003\\x002\\x00\\x9a\\x00\\x99\\x00E\\x00D\\xc0\\x07\\xc0\\x11\\xc0\\x08\\xc0\\x12\\x00\\x16\\x00\\x13\\x00\\x9d\\xc0\\xa1\\xc0\\x9d\\xc0Q\\x00\\x9c\\xc0\\xa0\\xc0\\x9c\\xc0P\\x00=\\x00\\xc0\\x00<\\x00\\xba\\x005\\x00\\x84\\x00/\\x00\\x96\\x00A\\x00\\x05\\x00\\n\\x00\\xff\\x01\\x00\\x00j\\x00\\x00\\x00\\x0e\\x00\\x0c\\x00\\x00\\t127.0.0.1\\x00\\x0b\\x00\\x04\\x03\\x00\\x01\\x02\\x00\\n\\x00\\x0c\\x00\\n\\x00\\x1d\\x00\\x17\\x00\\x1e\\x00\\x19\\x00\\x18\\x00#\\x00\\x00\\x00\", b'\\x00\\x00\\x17\\x00\\x00\\x00\\r\\x000\\x00.\\x04\\x03\\x05\\x03\\x06\\x03\\x08\\x07\\x08\\x08']\n",
      "Bad pipe message: %s [b'\\x08\\n\\x08\\x0b\\x08\\x04\\x08', b'\\x06\\x04\\x01\\x05']\n",
      "Bad pipe message: %s [b'']\n",
      "Bad pipe message: %s [b'', b'\\x03\\x03']\n",
      "Bad pipe message: %s [b'']\n",
      "Bad pipe message: %s [b'', b'\\x02']\n",
      "Bad pipe message: %s [b'\\x05\\x02\\x06']\n",
      "Bad pipe message: %s [b'(c\\x9f\\x9b\\x7fx\\xec-&R\\xeb\\xcf\\x01\\xeb\\xea\\xd4A\\xab\\x00\\x00>\\xc0\\x14\\xc0\\n\\x009\\x008\\x007\\x006\\xc0\\x0f\\xc0\\x05\\x005\\xc0\\x13\\xc0\\t\\x003\\x002\\x001\\x000\\xc0\\x0e\\xc0\\x04\\x00/\\x00\\x9a\\x00\\x99\\x00\\x98\\x00\\x97\\x00\\x96\\x00\\x07\\xc0\\x11\\xc0\\x07\\xc0\\x0c\\xc0\\x02\\x00\\x05\\x00\\x04\\x00\\xff\\x02\\x01\\x00\\x00C\\x00\\x00\\x00\\x0e\\x00\\x0c\\x00\\x00\\t127.0.0.1\\x00\\x0b\\x00\\x04\\x03\\x00\\x01\\x02\\x00']\n",
      "Bad pipe message: %s [b'\\x1c\\x00\\x1a\\x00\\x17\\x00\\x19\\x00\\x1c']\n",
      "Bad pipe message: %s [b'\\xf2\\nD\\x08\\xda\\xa2\\xa3\\xf91\\x91\\xab', b'\\x1e:l\\xa4P\\x00\\x00\\xa2\\xc0\\x14\\xc0\\n\\x009\\x008\\x007\\x006\\x00\\x88\\x00\\x87\\x00\\x86\\x00\\x85\\xc0\\x19\\x00:\\x00\\x89\\xc0\\x0f\\xc0\\x05\\x005\\x00\\x84\\xc0\\x13\\xc0\\t\\x003\\x002\\x001\\x000\\x00\\x9a\\x00\\x99\\x00\\x98\\x00\\x97\\x00E\\x00D\\x00C\\x00B\\xc0\\x18\\x004\\x00']\n",
      "Bad pipe message: %s [b'F\\xc0\\x0e\\xc0\\x04\\x00/\\x00\\x96\\x00A\\x00\\x07\\xc0\\x11\\xc0\\x07\\xc0\\x16\\x00\\x18\\xc0\\x0c\\xc0\\x02\\x00\\x05\\x00\\x04\\xc0\\x12\\xc0\\x08\\x00\\x16\\x00\\x13\\x00\\x10\\x00\\r\\xc0\\x17\\x00\\x1b\\xc0\\r\\xc0\\x03\\x00\\n\\x00\\x15\\x00\\x12\\x00\\x0f\\x00\\x0c\\x00\\x1a\\x00\\t\\x00\\x14\\x00\\x11\\x00\\x19\\x00\\x08\\x00\\x06\\x00\\x17\\x00\\x03\\xc0\\x10\\xc0\\x06\\xc0\\x15\\xc0\\x0b\\xc0\\x01\\x00\\x02\\x00\\x01\\x00\\xff\\x02\\x01\\x00\\x00C\\x00\\x00\\x00\\x0e\\x00\\x0c\\x00\\x00\\t127.0.0.1\\x00\\x0b\\x00\\x04\\x03\\x00\\x01\\x02\\x00\\n\\x00\\x1c\\x00\\x1a\\x00\\x17\\x00\\x19\\x00\\x1c\\x00\\x1b\\x00\\x18\\x00\\x1a\\x00\\x16\\x00\\x0e\\x00\\r\\x00\\x0b\\x00\\x0c\\x00\\t']\n",
      "Bad pipe message: %s [b'\\x8c\\x01\\xc8,=y~\\x0e\\\\\\xe14r\\xfb\\x06l\\x11;)\\x00\\x00\\xa2\\xc0\\x14\\xc0\\n\\x009\\x008\\x007\\x006\\x00\\x88\\x00\\x87\\x00\\x86\\x00\\x85\\xc0\\x19\\x00:\\x00\\x89\\xc0\\x0f\\xc0\\x05\\x005\\x00\\x84\\xc0\\x13\\xc0\\t\\x003\\x002\\x001\\x000\\x00\\x9a\\x00\\x99\\x00\\x98\\x00\\x97\\x00E\\x00D\\x00C\\x00B\\xc0\\x18\\x004\\x00\\x9b\\x00F\\xc0\\x0e\\xc0\\x04\\x00/\\x00\\x96\\x00A\\x00\\x07\\xc0\\x11\\xc0\\x07\\xc0\\x16\\x00\\x18\\xc0\\x0c\\xc0\\x02\\x00\\x05\\x00\\x04\\xc0\\x12\\xc0\\x08\\x00\\x16\\x00\\x13\\x00\\x10\\x00\\r\\xc0\\x17\\x00\\x1b\\xc0\\r\\xc0\\x03\\x00\\n\\x00\\x15\\x00\\x12\\x00\\x0f\\x00\\x0c\\x00\\x1a\\x00\\t\\x00\\x14\\x00\\x11\\x00\\x19\\x00\\x08\\x00\\x06\\x00', b'\\x03\\xc0\\x10\\xc0\\x06\\xc0\\x15\\xc0\\x0b\\xc0\\x01\\x00\\x02\\x00\\x01\\x00\\xff\\x02\\x01\\x00\\x15\\x03']\n",
      "Bad pipe message: %s [b\"\\xee\\xd4\\xb2Z\\x905Z\\xaa\\x96&\\xff[gn>q|\\xcf\\x00\\x00\\x86\\xc00\\xc0,\\xc0(\\xc0$\\xc0\\x14\\xc0\\n\\x00\\xa5\\x00\\xa3\\x00\\xa1\\x00\\x9f\\x00k\\x00j\\x00i\\x00h\\x009\\x008\\x007\\x006\\xc02\\xc0.\\xc0*\\xc0&\\xc0\\x0f\\xc0\\x05\\x00\\x9d\\x00=\\x005\\xc0/\\xc0+\\xc0'\\xc0#\\xc0\\x13\\xc0\\t\\x00\\xa4\\x00\\xa2\\x00\\xa0\\x00\\x9e\\x00g\\x00@\\x00?\\x00>\\x003\\x002\\x001\\x000\\xc01\\xc0-\\xc0)\\xc0%\\xc0\\x0e\\xc0\\x04\\x00\\x9c\\x00<\\x00/\\x00\\x9a\\x00\\x99\\x00\\x98\\x00\\x97\\x00\\x96\\x00\\x07\\xc0\\x11\\xc0\\x07\\xc0\\x0c\\xc0\\x02\\x00\\x05\\x00\\x04\\x00\\xff\\x02\\x01\\x00\\x00g\\x00\\x00\\x00\\x0e\\x00\\x0c\\x00\\x00\\t127.0.0.1\\x00\\x0b\\x00\"]\n",
      "Bad pipe message: %s [b'O\\xbc\\x8b\\xf5\\xd9\\x12:f\\xd7\\x07\\x0f\\xca\\xf8\\xbc{\\x16\\xc2\\xf6\\x00\\x00\\xf4\\xc00\\xc0,\\xc0(\\xc0$\\xc0\\x14\\xc0\\n\\x00\\xa5\\x00\\xa3\\x00\\xa1\\x00\\x9f\\x00k\\x00j\\x00i\\x00h\\x009\\x008\\x007\\x006\\x00\\x88\\x00\\x87\\x00\\x86\\x00\\x85\\xc0\\x19\\x00\\xa7\\x00m\\x00:\\x00\\x89\\xc02\\xc0.\\xc0*\\xc0&\\xc0\\x0f\\xc0\\x05\\x00\\x9d\\x00=']\n"
     ]
    }
   ],
   "source": [
    "len(data)"
   ]
  },
  {
   "cell_type": "code",
   "execution_count": 12,
   "id": "6a9311f9-e8dd-450a-a515-85c6e6cfacb5",
   "metadata": {},
   "outputs": [],
   "source": [
    "# Take in tokens, return sentences\n",
    "def basic_sentence_splitter(tokens: List[str]) -> List[List[str]]:\n",
    "    sentences = []\n",
    "    cur = []\n",
    "    for tok in tokens:\n",
    "        cur.append(tok)\n",
    "        if tok in ['.', '!', '?']:\n",
    "            sentences.append(cur)\n",
    "            cur = []\n",
    "    return sentences"
   ]
  },
  {
   "cell_type": "code",
   "execution_count": 13,
   "id": "6a2406ef-dd7f-44bd-a4d8-c777d9ec4e84",
   "metadata": {},
   "outputs": [],
   "source": [
    "# Take in tokens, return sentences\n",
    "def sentence_splitter_bigger_than_one(tokens: List[str]) -> List[List[str]]:\n",
    "    sentences = []\n",
    "    cur = []\n",
    "    cnt_since_last_dot = 0\n",
    "    for tok in tokens:\n",
    "        cur.append(tok)\n",
    "        cnt_since_last_dot += 1\n",
    "        if tok in ['.', '!', '?']:\n",
    "            if cnt_since_last_dot > 2: # sentence should be longer than 1(2 because . counts as 1 too)\n",
    "                sentences.append(cur)\n",
    "                cur = []\n",
    "            cnt_since_last_dot = 0\n",
    "    if len(cur) > 0:\n",
    "        sentences.append(cur)\n",
    "    return sentences"
   ]
  },
  {
   "cell_type": "code",
   "execution_count": 14,
   "id": "413bc249-a346-4d79-82aa-29c57ab9317f",
   "metadata": {},
   "outputs": [],
   "source": [
    "# CHANGE THIS TO CHANGE SENTENCE SPLITTER\n",
    "sentence_splitter = sentence_splitter_bigger_than_one"
   ]
  },
  {
   "cell_type": "code",
   "execution_count": 15,
   "id": "8a1c1ea1-849c-49f0-84da-9c299ea93ded",
   "metadata": {},
   "outputs": [
    {
     "data": {
      "text/plain": [
       "[['20/20/2020', 'მაგარი', 'თარიღია', '.'],\n",
       " ['ძვ', ';', 'წ', ';', '2020', 'წელიც', 'მაგარი', 'იყო', '.']]"
      ]
     },
     "execution_count": 15,
     "metadata": {},
     "output_type": "execute_result"
    }
   ],
   "source": [
    "sentence_splitter(tokenizer('20.20.2020 მაგარი თარიღია. ძვ.წ. 2020 წელიც მაგარი იყო.'))"
   ]
  },
  {
   "cell_type": "code",
   "execution_count": 16,
   "id": "9628454d-61ab-4b3a-b2b1-40c25f42bba5",
   "metadata": {},
   "outputs": [],
   "source": [
    "sentences = list(flatten(map(sentence_splitter, data)))"
   ]
  },
  {
   "cell_type": "code",
   "execution_count": 21,
   "id": "de917793-7742-470f-8359-39af54bf8496",
   "metadata": {},
   "outputs": [],
   "source": [
    "f=open('./data/nose.txt', 'w')\n",
    "for s in sentences:\n",
    "    #print(s)\n",
    "    s=s[:40]\n",
    "    f.write(' '.join(s))\n",
    "    f.write('\\n')\n",
    "f.close()"
   ]
  },
  {
   "cell_type": "code",
   "execution_count": 22,
   "id": "36903602-378a-4866-a445-a7a79de4bdd0",
   "metadata": {},
   "outputs": [
    {
     "data": {
      "text/plain": [
       "1346603"
      ]
     },
     "execution_count": 22,
     "metadata": {},
     "output_type": "execute_result"
    }
   ],
   "source": [
    "len(sentences)"
   ]
  },
  {
   "cell_type": "code",
   "execution_count": null,
   "id": "397fa788-c3f5-4f4c-aff5-2c1c7ab718c2",
   "metadata": {},
   "outputs": [],
   "source": []
  }
 ],
 "metadata": {
  "kernelspec": {
   "display_name": "geolm",
   "language": "python",
   "name": "conda-env-geolm-py"
  },
  "language_info": {
   "codemirror_mode": {
    "name": "ipython",
    "version": 3
   },
   "file_extension": ".py",
   "mimetype": "text/x-python",
   "name": "python",
   "nbconvert_exporter": "python",
   "pygments_lexer": "ipython3",
   "version": "3.10.4"
  }
 },
 "nbformat": 4,
 "nbformat_minor": 5
}
